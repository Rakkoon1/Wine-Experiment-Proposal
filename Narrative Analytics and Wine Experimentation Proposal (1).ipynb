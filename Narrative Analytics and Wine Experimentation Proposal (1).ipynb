{
 "cells": [
  {
   "cell_type": "markdown",
   "metadata": {},
   "source": [
    "## Narrative Analytics and Experimentation Proposal"
   ]
  },
  {
   "cell_type": "markdown",
   "metadata": {},
   "source": [
    "> An alcohol distributor is researching low traffic continents for countries with potential growth opportunities. This dataset contains the amount of servings from bars, restaurants, and more for nearly 200 countries in 5 continents to track local consumer trends. The strategy is to seek countries with low influence in one of the facets of alcohol consumption to strategize future marketing campaigns for popular products to potentially lead the competitive market by inspiring a potential trend. \n",
    "\n",
    "> We discovered a low interquartile range in the continent of Africa and the Oceanic region for wine consumption with many interesting outliers. The datapoints for the outliers represent specific countries with higher consumption rates. Those datapoints could potentially become trend leaders for our superior wine collections that may incite a trend that will expand to other countries nearby. "
   ]
  },
  {
   "cell_type": "markdown",
   "metadata": {},
   "source": [
    "### The Problem"
   ]
  },
  {
   "cell_type": "markdown",
   "metadata": {},
   "source": [
    "> Should we strategize a campaign within Africa or Oceania? It would be very costly and time consuming to conduct deeper consumer analysis for both countries. There could be many factors attributed to consumption rates which could include accessibility, preferences, and/or more."
   ]
  },
  {
   "cell_type": "code",
   "execution_count": 1,
   "metadata": {},
   "outputs": [],
   "source": [
    "import pandas as pd\n",
    "import numpy as np\n",
    "import seaborn as sns\n",
    "import matplotlib.pyplot as plt\n",
    "from scipy import stats\n",
    "\n",
    "%matplotlib inline"
   ]
  },
  {
   "cell_type": "code",
   "execution_count": 2,
   "metadata": {},
   "outputs": [],
   "source": [
    "drinks = pd.read_csv('C:/Users/marwi/OneDrive/Desktop/Git/part2/session_5-master/data/drinks.csv')"
   ]
  },
  {
   "cell_type": "code",
   "execution_count": 3,
   "metadata": {},
   "outputs": [
    {
     "data": {
      "text/html": [
       "<div>\n",
       "<style scoped>\n",
       "    .dataframe tbody tr th:only-of-type {\n",
       "        vertical-align: middle;\n",
       "    }\n",
       "\n",
       "    .dataframe tbody tr th {\n",
       "        vertical-align: top;\n",
       "    }\n",
       "\n",
       "    .dataframe thead th {\n",
       "        text-align: right;\n",
       "    }\n",
       "</style>\n",
       "<table border=\"1\" class=\"dataframe\">\n",
       "  <thead>\n",
       "    <tr style=\"text-align: right;\">\n",
       "      <th></th>\n",
       "      <th>country</th>\n",
       "      <th>beer</th>\n",
       "      <th>spirits</th>\n",
       "      <th>wine</th>\n",
       "      <th>spirit_litres</th>\n",
       "      <th>continent</th>\n",
       "    </tr>\n",
       "  </thead>\n",
       "  <tbody>\n",
       "    <tr>\n",
       "      <th>0</th>\n",
       "      <td>Afghanistan</td>\n",
       "      <td>0</td>\n",
       "      <td>0</td>\n",
       "      <td>0</td>\n",
       "      <td>0.0</td>\n",
       "      <td>AS</td>\n",
       "    </tr>\n",
       "    <tr>\n",
       "      <th>1</th>\n",
       "      <td>Albania</td>\n",
       "      <td>89</td>\n",
       "      <td>132</td>\n",
       "      <td>54</td>\n",
       "      <td>4.9</td>\n",
       "      <td>EU</td>\n",
       "    </tr>\n",
       "    <tr>\n",
       "      <th>2</th>\n",
       "      <td>Algeria</td>\n",
       "      <td>25</td>\n",
       "      <td>0</td>\n",
       "      <td>14</td>\n",
       "      <td>0.7</td>\n",
       "      <td>AF</td>\n",
       "    </tr>\n",
       "    <tr>\n",
       "      <th>3</th>\n",
       "      <td>Andorra</td>\n",
       "      <td>245</td>\n",
       "      <td>138</td>\n",
       "      <td>312</td>\n",
       "      <td>12.4</td>\n",
       "      <td>EU</td>\n",
       "    </tr>\n",
       "    <tr>\n",
       "      <th>4</th>\n",
       "      <td>Angola</td>\n",
       "      <td>217</td>\n",
       "      <td>57</td>\n",
       "      <td>45</td>\n",
       "      <td>5.9</td>\n",
       "      <td>AF</td>\n",
       "    </tr>\n",
       "  </tbody>\n",
       "</table>\n",
       "</div>"
      ],
      "text/plain": [
       "       country  beer  spirits  wine  spirit_litres continent\n",
       "0  Afghanistan     0        0     0            0.0        AS\n",
       "1      Albania    89      132    54            4.9        EU\n",
       "2      Algeria    25        0    14            0.7        AF\n",
       "3      Andorra   245      138   312           12.4        EU\n",
       "4       Angola   217       57    45            5.9        AF"
      ]
     },
     "execution_count": 3,
     "metadata": {},
     "output_type": "execute_result"
    }
   ],
   "source": [
    "drinks.rename(columns={'beer_servings':'beer', 'spirit_servings':'spirits', 'wine_servings':'wine', 'total_litres_of_pure_alcohol':'spirit_litres'}, inplace=True)\n",
    "drinks.head()"
   ]
  },
  {
   "cell_type": "code",
   "execution_count": 4,
   "metadata": {},
   "outputs": [
    {
     "data": {
      "image/png": "[encoded data removed]",
      "text/plain": [
       "<Figure size 576x576 with 4 Axes>"
      ]
     },
     "metadata": {},
     "output_type": "display_data"
    }
   ],
   "source": [
    "plt.figure(figsize=(8,8))\n",
    "plt.subplot(2,2,1)\n",
    "sns.boxplot(x='continent', y='beer', data=drinks)\n",
    "\n",
    "plt.subplot(2,2,2)\n",
    "sns.boxplot(x='continent', y='wine', data=drinks)\n",
    "\n",
    "plt.subplot(2,2,3)\n",
    "sns.boxplot(x='continent', y='spirits', data=drinks)\n",
    "\n",
    "plt.subplot(2,2,4)\n",
    "sns.boxplot(x='continent', y='spirit_litres', data=drinks)\n",
    "plt.show();"
   ]
  },
  {
   "cell_type": "markdown",
   "metadata": {},
   "source": [
    "The comparison of wine consumption based on continent shows an opportunity in Africa and Oceania with Africa having a lower interquartile range but with many significant outliers. The EU and SA have a much higher interquartile range which could represent much more competition. AS has the lowest range and outliers that could be examined at a later time. With the higher range of outliers in AF and OC, this could represent a higher potential to penetrate the market effectively."
   ]
  },
  {
   "cell_type": "code",
   "execution_count": 5,
   "metadata": {},
   "outputs": [],
   "source": [
    "dr1 = drinks.loc[((drinks['continent']=='AF') | (drinks['continent']=='OC')),\n",
    "                ['continent', 'country', 'wine']]"
   ]
  },
  {
   "cell_type": "code",
   "execution_count": 6,
   "metadata": {},
   "outputs": [
    {
     "data": {
      "image/png": "[encoded data removed]",
      "text/plain": [
       "<Figure size 288x288 with 1 Axes>"
      ]
     },
     "metadata": {},
     "output_type": "display_data"
    }
   ],
   "source": [
    "sns.factorplot(x='continent', y='wine', data=dr1, kind='box');\n",
    "plt.title('Wine Consumption')\n",
    "plt.show();"
   ]
  },
  {
   "cell_type": "code",
   "execution_count": 7,
   "metadata": {},
   "outputs": [],
   "source": [
    "dr1['continent'].replace('AF', 0, inplace=True)\n",
    "dr1['continent'].replace('OC', 1, inplace=True)"
   ]
  },
  {
   "cell_type": "code",
   "execution_count": 8,
   "metadata": {},
   "outputs": [
    {
     "name": "stdout",
     "output_type": "stream",
     "text": [
      "AF countries: 53\n",
      "OC countries: 16\n"
     ]
    }
   ],
   "source": [
    "print('AF countries:', len(dr1[dr1.continent==0]))\n",
    "print('OC countries:', len(dr1[dr1.continent==1]))"
   ]
  },
  {
   "cell_type": "code",
   "execution_count": 9,
   "metadata": {},
   "outputs": [
    {
     "name": "stdout",
     "output_type": "stream",
     "text": [
      "AF: 16.264150943396228\n",
      "OC: 35.625\n"
     ]
    }
   ],
   "source": [
    "print('AF:', dr1[dr1.continent == 0].wine.mean())\n",
    "print('OC:', dr1[dr1.continent == 1].wine.mean())"
   ]
  },
  {
   "cell_type": "code",
   "execution_count": 10,
   "metadata": {},
   "outputs": [
    {
     "data": {
      "image/png": "[encoded data removed]",
      "text/plain": [
       "<Figure size 432x288 with 1 Axes>"
      ]
     },
     "metadata": {},
     "output_type": "display_data"
    }
   ],
   "source": [
    "consumption = dr1[dr1.continent==0][['country', 'wine']].groupby('country').mean().plot()\n",
    "dr1[dr1.continent==1][['country', 'wine']].groupby('country').mean().plot(ax=consumption)\n",
    "plt.legend(['Africa', 'Oceanic'])\n",
    "plt.title('Wine Consumption')\n",
    "plt.show()"
   ]
  },
  {
   "cell_type": "code",
   "execution_count": 11,
   "metadata": {},
   "outputs": [
    {
     "data": {
      "text/plain": [
       "Ttest_indResult(statistic=-1.4796304750364608, pvalue=0.14365872119258638)"
      ]
     },
     "execution_count": 11,
     "metadata": {},
     "output_type": "execute_result"
    }
   ],
   "source": [
    "stats.ttest_ind(dr1[dr1.continent==0].wine,\n",
    "               dr1[dr1.continent==1].wine)"
   ]
  },
  {
   "cell_type": "markdown",
   "metadata": {},
   "source": [
    "## Null Hypothesis"
   ]
  },
  {
   "cell_type": "markdown",
   "metadata": {},
   "source": [
    "Above we can see that AF has a wider range of countries with many significant spikes and OC has a much lower proportion of countries with two significant spikes. The p-value of 0.1436 is nearly three times the desired threshold of 0.05. Meaning that we should take into consideration the null hypothesis of no effect. In this case, there is nearly a 15% chance that there may not be enough interest in wine in either Africa or Oceania for a successful marketing campaign."
   ]
  },
  {
   "cell_type": "code",
   "execution_count": 11,
   "metadata": {},
   "outputs": [
    {
     "data": {
      "text/html": [
       "<div>\n",
       "<style scoped>\n",
       "    .dataframe tbody tr th:only-of-type {\n",
       "        vertical-align: middle;\n",
       "    }\n",
       "\n",
       "    .dataframe tbody tr th {\n",
       "        vertical-align: top;\n",
       "    }\n",
       "\n",
       "    .dataframe thead th {\n",
       "        text-align: right;\n",
       "    }\n",
       "</style>\n",
       "<table border=\"1\" class=\"dataframe\">\n",
       "  <thead>\n",
       "    <tr style=\"text-align: right;\">\n",
       "      <th></th>\n",
       "      <th>continent</th>\n",
       "      <th>country</th>\n",
       "      <th>wine</th>\n",
       "    </tr>\n",
       "  </thead>\n",
       "  <tbody>\n",
       "    <tr>\n",
       "      <th>55</th>\n",
       "      <td>0</td>\n",
       "      <td>Equatorial Guinea</td>\n",
       "      <td>233</td>\n",
       "    </tr>\n",
       "    <tr>\n",
       "      <th>148</th>\n",
       "      <td>0</td>\n",
       "      <td>Sao Tome &amp; Principe</td>\n",
       "      <td>140</td>\n",
       "    </tr>\n",
       "    <tr>\n",
       "      <th>159</th>\n",
       "      <td>0</td>\n",
       "      <td>South Africa</td>\n",
       "      <td>81</td>\n",
       "    </tr>\n",
       "    <tr>\n",
       "      <th>62</th>\n",
       "      <td>0</td>\n",
       "      <td>Gabon</td>\n",
       "      <td>59</td>\n",
       "    </tr>\n",
       "    <tr>\n",
       "      <th>152</th>\n",
       "      <td>0</td>\n",
       "      <td>Seychelles</td>\n",
       "      <td>51</td>\n",
       "    </tr>\n",
       "    <tr>\n",
       "      <th>4</th>\n",
       "      <td>0</td>\n",
       "      <td>Angola</td>\n",
       "      <td>45</td>\n",
       "    </tr>\n",
       "    <tr>\n",
       "      <th>22</th>\n",
       "      <td>0</td>\n",
       "      <td>Botswana</td>\n",
       "      <td>35</td>\n",
       "    </tr>\n",
       "    <tr>\n",
       "      <th>71</th>\n",
       "      <td>0</td>\n",
       "      <td>Guinea-Bissau</td>\n",
       "      <td>21</td>\n",
       "    </tr>\n",
       "    <tr>\n",
       "      <th>175</th>\n",
       "      <td>0</td>\n",
       "      <td>Tunisia</td>\n",
       "      <td>20</td>\n",
       "    </tr>\n",
       "    <tr>\n",
       "      <th>172</th>\n",
       "      <td>0</td>\n",
       "      <td>Togo</td>\n",
       "      <td>19</td>\n",
       "    </tr>\n",
       "  </tbody>\n",
       "</table>\n",
       "</div>"
      ],
      "text/plain": [
       "     continent              country  wine\n",
       "55           0    Equatorial Guinea   233\n",
       "148          0  Sao Tome & Principe   140\n",
       "159          0         South Africa    81\n",
       "62           0                Gabon    59\n",
       "152          0           Seychelles    51\n",
       "4            0               Angola    45\n",
       "22           0             Botswana    35\n",
       "71           0        Guinea-Bissau    21\n",
       "175          0              Tunisia    20\n",
       "172          0                 Togo    19"
      ]
     },
     "execution_count": 11,
     "metadata": {},
     "output_type": "execute_result"
    }
   ],
   "source": [
    "dr1[dr1['continent']==0].sort_values('wine', ascending=False).head(10)"
   ]
  },
  {
   "cell_type": "code",
   "execution_count": 12,
   "metadata": {},
   "outputs": [
    {
     "data": {
      "text/html": [
       "<div>\n",
       "<style scoped>\n",
       "    .dataframe tbody tr th:only-of-type {\n",
       "        vertical-align: middle;\n",
       "    }\n",
       "\n",
       "    .dataframe tbody tr th {\n",
       "        vertical-align: top;\n",
       "    }\n",
       "\n",
       "    .dataframe thead th {\n",
       "        text-align: right;\n",
       "    }\n",
       "</style>\n",
       "<table border=\"1\" class=\"dataframe\">\n",
       "  <thead>\n",
       "    <tr style=\"text-align: right;\">\n",
       "      <th></th>\n",
       "      <th>continent</th>\n",
       "      <th>country</th>\n",
       "      <th>wine</th>\n",
       "    </tr>\n",
       "  </thead>\n",
       "  <tbody>\n",
       "    <tr>\n",
       "      <th>8</th>\n",
       "      <td>1</td>\n",
       "      <td>Australia</td>\n",
       "      <td>212</td>\n",
       "    </tr>\n",
       "    <tr>\n",
       "      <th>121</th>\n",
       "      <td>1</td>\n",
       "      <td>New Zealand</td>\n",
       "      <td>175</td>\n",
       "    </tr>\n",
       "    <tr>\n",
       "      <th>40</th>\n",
       "      <td>1</td>\n",
       "      <td>Cook Islands</td>\n",
       "      <td>74</td>\n",
       "    </tr>\n",
       "    <tr>\n",
       "      <th>146</th>\n",
       "      <td>1</td>\n",
       "      <td>Samoa</td>\n",
       "      <td>24</td>\n",
       "    </tr>\n",
       "    <tr>\n",
       "      <th>129</th>\n",
       "      <td>1</td>\n",
       "      <td>Palau</td>\n",
       "      <td>23</td>\n",
       "    </tr>\n",
       "    <tr>\n",
       "      <th>110</th>\n",
       "      <td>1</td>\n",
       "      <td>Micronesia</td>\n",
       "      <td>18</td>\n",
       "    </tr>\n",
       "    <tr>\n",
       "      <th>187</th>\n",
       "      <td>1</td>\n",
       "      <td>Vanuatu</td>\n",
       "      <td>11</td>\n",
       "    </tr>\n",
       "    <tr>\n",
       "      <th>178</th>\n",
       "      <td>1</td>\n",
       "      <td>Tuvalu</td>\n",
       "      <td>9</td>\n",
       "    </tr>\n",
       "    <tr>\n",
       "      <th>118</th>\n",
       "      <td>1</td>\n",
       "      <td>Nauru</td>\n",
       "      <td>8</td>\n",
       "    </tr>\n",
       "    <tr>\n",
       "      <th>125</th>\n",
       "      <td>1</td>\n",
       "      <td>Niue</td>\n",
       "      <td>7</td>\n",
       "    </tr>\n",
       "  </tbody>\n",
       "</table>\n",
       "</div>"
      ],
      "text/plain": [
       "     continent       country  wine\n",
       "8            1     Australia   212\n",
       "121          1   New Zealand   175\n",
       "40           1  Cook Islands    74\n",
       "146          1         Samoa    24\n",
       "129          1         Palau    23\n",
       "110          1    Micronesia    18\n",
       "187          1       Vanuatu    11\n",
       "178          1        Tuvalu     9\n",
       "118          1         Nauru     8\n",
       "125          1          Niue     7"
      ]
     },
     "execution_count": 12,
     "metadata": {},
     "output_type": "execute_result"
    }
   ],
   "source": [
    "dr1[dr1['continent']==1].sort_values('wine', ascending=False).head(10)"
   ]
  },
  {
   "cell_type": "markdown",
   "metadata": {},
   "source": [
    "## The Potential Solution and Method of Testing"
   ]
  },
  {
   "cell_type": "markdown",
   "metadata": {},
   "source": [
    "> Further market research should be conducted in Africa. The method of testing would be conducted in Equatorial Guinea and Sao Tome & Principe due to a high potential for test subjects. We will conduct A/B testing with local popular wines as the control variable and our wine collections as the test variable with similar demographic groups of random subjects. \n",
    "\n",
    "> We will calculate the taste preferences of the groups for one month to collect a significant sample of the population. Continuing by gathering data on the taste preferences for targeting demographic groups and assign a taste profile for future marketing strategies.\n",
    "\n",
    "> If the test groups show a higher average of preference for our wine collection, we will utilize the taste profiles assigned to each demographic to begin formulating tests for marketing strategies. If the test groups show slightly less than average preference for our wine collection we will continue the study for another month. But, if the test groups show significantly less than average preference for our wine collection we will begin planning on conducting tests in Oceania by seeking test subjects in Australia and New Zealand."
   ]
  },
  {
   "cell_type": "markdown",
   "metadata": {},
   "source": [
    "## Conclusion"
   ]
  },
  {
   "cell_type": "markdown",
   "metadata": {},
   "source": [
    "Equatorial Guinea is one of the richest countries in Africa. We can research insights for a wide range of demographics from a population of nearly 1.3 million, of which we hope to learn from high-income consumers. Sao Tome & Principe has a more lower-middle income demographic for a population of nearly 200 thousand, of which we hope to learn how to reach a large portion of the lower-income populations in other countries. By conducting research in both locations we can learn marketing strategies for both our premium collections as well as the lower-tier collections. With this information we can potentially penetrate the market for both upper and lower income consumers before continuing expansion to other targeted countries."
   ]
  }
 ],
 "metadata": {
  "kernelspec": {
   "display_name": "Python 3",
   "language": "python",
   "name": "python3"
  },
  "language_info": {
   "codemirror_mode": {
    "name": "ipython",
    "version": 3
   },
   "file_extension": ".py",
   "mimetype": "text/x-python",
   "name": "python",
   "nbconvert_exporter": "python",
   "pygments_lexer": "ipython3",
   "version": "3.6.5"
  }
 },
 "nbformat": 4,
 "nbformat_minor": 2
}
